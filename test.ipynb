{
 "cells": [
  {
   "cell_type": "code",
   "execution_count": 3,
   "metadata": {},
   "outputs": [
    {
     "name": "stdout",
     "output_type": "stream",
     "text": [
      "[1, 2, 3, 4]\n",
      "[1, 2, 4, 3]\n",
      "[1, 3, 2, 4]\n",
      "[1, 3, 4, 2]\n",
      "[1, 4, 3, 2]\n",
      "[2, 1, 3, 4]\n",
      "[2, 1, 4, 3]\n",
      "[2, 3, 1, 4]\n",
      "[2, 3, 4, 1]\n",
      "[2, 4, 3, 1]\n",
      "[3, 2, 1, 4]\n",
      "[3, 2, 4, 1]\n",
      "[3, 4, 2, 1]\n",
      "[4, 3, 2, 1]\n"
     ]
    },
    {
     "ename": "",
     "evalue": "",
     "output_type": "error",
     "traceback": [
      "\u001b[1;31mThe Kernel crashed while executing code in the current cell or a previous cell. \n",
      "\u001b[1;31mPlease review the code in the cell(s) to identify a possible cause of the failure. \n",
      "\u001b[1;31mClick <a href='https://aka.ms/vscodeJupyterKernelCrash'>here</a> for more info. \n",
      "\u001b[1;31mView Jupyter <a href='command:jupyter.viewOutput'>log</a> for further details."
     ]
    }
   ],
   "source": [
    "def generate_train_permutations(n):\n",
    "    def backtrack(stack, output, remaining, result):\n",
    "        if not stack and not remaining:\n",
    "            result.append(output[:])\n",
    "            return\n",
    "        \n",
    "        if stack:\n",
    "            next_output = output + [stack[-1]]\n",
    "            backtrack(stack[:-1], next_output, remaining, result)\n",
    "        \n",
    "        if remaining:\n",
    "            next_stack = stack + [remaining[0]]\n",
    "            backtrack(next_stack, output, remaining[1:], result)\n",
    "    \n",
    "    result = []\n",
    "    initial_stack = []\n",
    "    initial_output = []\n",
    "    remaining_trains = list(range(1, n + 1))\n",
    "    backtrack(initial_stack, initial_output, remaining_trains, result)\n",
    "    \n",
    "    return result\n",
    "\n",
    "# 测试\n",
    "n = 4\n",
    "permutations = generate_train_permutations(n)\n",
    "for perm in permutations:\n",
    "    print(perm)\n"
   ]
  }
 ],
 "metadata": {
  "kernelspec": {
   "display_name": "deeplearning",
   "language": "python",
   "name": "python3"
  },
  "language_info": {
   "codemirror_mode": {
    "name": "ipython",
    "version": 3
   },
   "file_extension": ".py",
   "mimetype": "text/x-python",
   "name": "python",
   "nbconvert_exporter": "python",
   "pygments_lexer": "ipython3",
   "version": "3.6.13"
  }
 },
 "nbformat": 4,
 "nbformat_minor": 2
}
